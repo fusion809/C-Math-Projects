{
 "cells": [
  {
   "cell_type": "code",
   "execution_count": null,
   "metadata": {},
   "outputs": [
    {
     "name": "stdout",
     "output_type": "stream",
     "text": [
      "Enter five numbers \n",
      "First four are a, b, c, d in ax^3 + bx^2 + cx + d = 0. Fifth is the absolute error tolerance (epsilon) to be applied. Separate all input numbers with commas): \n"
     ]
    }
   ],
   "source": [
    "// Function to calculate the absolute value of a number\n",
    "#include <stdio.h>\n",
    "\n",
    "float absoluteValue (float x)\n",
    "{\n",
    "  if ( x < 0 )\n",
    "  x = -x;\n",
    "  return (x);\n",
    "}\n",
    "\n",
    "// Function to compute the cubic root of a number\n",
    "float cubeqRoot (float a, float b, float c, float d, float eps)\n",
    "{\n",
    "  float guess = 1.0;\n",
    "  while ( absoluteValue (a * guess * guess * guess + b * guess * guess + c * guess + d) >= eps )\n",
    "  guess = guess - (a * guess * guess * guess + b * guess * guess + c * guess + d)/(3 * a * guess * guess + 2 * b * guess + c);\n",
    "  return guess;\n",
    "}\n",
    "\n",
    "int main (void)\n",
    "{\n",
    "  float a = 10;\n",
    "  float b = 1;\n",
    "\n",
    "  x = cubeqRoot(a,b,c,d,epsilon);\n",
    "  printf (\"cubeqRoot(a,b,c,d)   = %.15f\", x);\n",
    "  return 0;\n",
    "}"
   ]
  },
  {
   "cell_type": "code",
   "execution_count": null,
   "metadata": {},
   "outputs": [],
   "source": []
  }
 ],
 "metadata": {
  "kernelspec": {
   "display_name": "C",
   "language": "c",
   "name": "c"
  },
  "language_info": {
   "file_extension": ".c",
   "mimetype": "text/plain",
   "name": "c"
  }
 },
 "nbformat": 4,
 "nbformat_minor": 2
}
